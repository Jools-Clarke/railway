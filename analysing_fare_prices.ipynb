{
 "cells": [
  {
   "cell_type": "markdown",
   "id": "79b9d575",
   "metadata": {},
   "source": [
    "# Analysing Fare Prices\n",
    "\n",
    "This notebook contains a sample workflow that you are planning to run to test your hypothesis about the price of train fares across the UK network.\n",
    "\n",
    "The workflow is split across multiple cells, with the commands in each grouped by their functionality and order of appearance in the assignment.\n",
    "You do not have to write the functions in this order, however know that cells lower down in the workflow may depend on those closer to the top!"
   ]
  },
  {
   "cell_type": "code",
   "execution_count": 1,
   "id": "1a6df4cc-bb06-4e4b-acea-2de55c3e26ce",
   "metadata": {
    "tags": []
   },
   "outputs": [],
   "source": [
    "from railway import Station, RailNetwork\n",
    "from utilities import read_rail_network\n",
    "\n",
    "edinburgh_park = Station(\"Edinburgh Park\", \"Scotland\", \"EDP\", 55.927615, -3.307829, False)"
   ]
  },
  {
   "cell_type": "code",
   "execution_count": 2,
   "id": "d594549f-a5b2-481f-9db3-40ce7a6a0c3b",
   "metadata": {
    "tags": []
   },
   "outputs": [],
   "source": [
    "from pathlib import Path\n",
    "\n",
    "network_csv = Path(\"uk_stations.csv\")\n",
    "rail_network = read_rail_network(network_csv)"
   ]
  },
  {
   "cell_type": "code",
   "execution_count": 3,
   "id": "6b421e0d-02bc-4788-9d5a-c7b94f7a00e8",
   "metadata": {},
   "outputs": [
    {
     "name": "stdout",
     "output_type": "stream",
     "text": [
      "There are <bound method RailNetwork.n_stations of <railway.RailNetwork object at 0x7fb958c42ac0>> stations in the network\n",
      "These are the regions: <bound method RailNetwork.regions of <railway.RailNetwork object at 0x7fb958c42ac0>>\n"
     ]
    },
    {
     "ename": "TypeError",
     "evalue": "'method' object is not iterable",
     "output_type": "error",
     "traceback": [
      "\u001b[0;31m---------------------------------------------------------------------------\u001b[0m",
      "\u001b[0;31mTypeError\u001b[0m                                 Traceback (most recent call last)",
      "\u001b[1;32m/Users/jools/Desktop/UCL/Research_Software_Engineering_with_Python/coursework1/analysing_fare_prices.ipynb Cell 4\u001b[0m line \u001b[0;36m<cell line: 7>\u001b[0;34m()\u001b[0m\n\u001b[1;32m      <a href='vscode-notebook-cell:/Users/jools/Desktop/UCL/Research_Software_Engineering_with_Python/coursework1/analysing_fare_prices.ipynb#W3sZmlsZQ%3D%3D?line=2'>3</a>\u001b[0m \u001b[39mprint\u001b[39m(\u001b[39mf\u001b[39m\u001b[39m\"\u001b[39m\u001b[39mThese are the regions: \u001b[39m\u001b[39m{\u001b[39;00mrail_network\u001b[39m.\u001b[39mregions\u001b[39m}\u001b[39;00m\u001b[39m\"\u001b[39m)\n\u001b[1;32m      <a href='vscode-notebook-cell:/Users/jools/Desktop/UCL/Research_Software_Engineering_with_Python/coursework1/analysing_fare_prices.ipynb#W3sZmlsZQ%3D%3D?line=4'>5</a>\u001b[0m \u001b[39m# After implementing the regions method for rail network,\u001b[39;00m\n\u001b[1;32m      <a href='vscode-notebook-cell:/Users/jools/Desktop/UCL/Research_Software_Engineering_with_Python/coursework1/analysing_fare_prices.ipynb#W3sZmlsZQ%3D%3D?line=5'>6</a>\u001b[0m \u001b[39m# the plot_network() command will work.\u001b[39;00m\n\u001b[0;32m----> <a href='vscode-notebook-cell:/Users/jools/Desktop/UCL/Research_Software_Engineering_with_Python/coursework1/analysing_fare_prices.ipynb#W3sZmlsZQ%3D%3D?line=6'>7</a>\u001b[0m rail_network\u001b[39m.\u001b[39;49mplot_network()\n",
      "File \u001b[0;32m~/Desktop/UCL/Research_Software_Engineering_with_Python/coursework1/railway.py:115\u001b[0m, in \u001b[0;36mRailNetwork.plot_network\u001b[0;34m(self, marker_size)\u001b[0m\n\u001b[1;32m    112\u001b[0m COLOURS \u001b[39m=\u001b[39m [\u001b[39m\"\u001b[39m\u001b[39mb\u001b[39m\u001b[39m\"\u001b[39m, \u001b[39m\"\u001b[39m\u001b[39mr\u001b[39m\u001b[39m\"\u001b[39m, \u001b[39m\"\u001b[39m\u001b[39mg\u001b[39m\u001b[39m\"\u001b[39m, \u001b[39m\"\u001b[39m\u001b[39mc\u001b[39m\u001b[39m\"\u001b[39m, \u001b[39m\"\u001b[39m\u001b[39mm\u001b[39m\u001b[39m\"\u001b[39m, \u001b[39m\"\u001b[39m\u001b[39my\u001b[39m\u001b[39m\"\u001b[39m, \u001b[39m\"\u001b[39m\u001b[39mk\u001b[39m\u001b[39m\"\u001b[39m]\n\u001b[1;32m    113\u001b[0m MARKERS \u001b[39m=\u001b[39m [\u001b[39m\"\u001b[39m\u001b[39m.\u001b[39m\u001b[39m\"\u001b[39m, \u001b[39m\"\u001b[39m\u001b[39mo\u001b[39m\u001b[39m\"\u001b[39m, \u001b[39m\"\u001b[39m\u001b[39mx\u001b[39m\u001b[39m\"\u001b[39m, \u001b[39m\"\u001b[39m\u001b[39m*\u001b[39m\u001b[39m\"\u001b[39m, \u001b[39m\"\u001b[39m\u001b[39m+\u001b[39m\u001b[39m\"\u001b[39m]\n\u001b[0;32m--> 115\u001b[0m \u001b[39mfor\u001b[39;00m i, r \u001b[39min\u001b[39;00m \u001b[39menumerate\u001b[39;49m(\u001b[39mself\u001b[39;49m\u001b[39m.\u001b[39;49mregions):\n\u001b[1;32m    116\u001b[0m     lats \u001b[39m=\u001b[39m [s\u001b[39m.\u001b[39mlat \u001b[39mfor\u001b[39;00m s \u001b[39min\u001b[39;00m \u001b[39mself\u001b[39m\u001b[39m.\u001b[39mstations\u001b[39m.\u001b[39mvalues() \u001b[39mif\u001b[39;00m s\u001b[39m.\u001b[39mregion \u001b[39m==\u001b[39m r]\n\u001b[1;32m    117\u001b[0m     lons \u001b[39m=\u001b[39m [s\u001b[39m.\u001b[39mlon \u001b[39mfor\u001b[39;00m s \u001b[39min\u001b[39;00m \u001b[39mself\u001b[39m\u001b[39m.\u001b[39mstations\u001b[39m.\u001b[39mvalues() \u001b[39mif\u001b[39;00m s\u001b[39m.\u001b[39mregion \u001b[39m==\u001b[39m r]\n",
      "\u001b[0;31mTypeError\u001b[0m: 'method' object is not iterable"
     ]
    },
    {
     "data": {
      "image/png": "[encoded data removed]",
      "text/plain": [
       "<Figure size 360x720 with 1 Axes>"
      ]
     },
     "metadata": {
      "needs_background": "light"
     },
     "output_type": "display_data"
    }
   ],
   "source": [
    "print(f\"There are {rail_network.n_stations} stations in the network\")\n",
    "\n",
    "print(f\"These are the regions: {rail_network.regions}\")\n",
    "\n",
    "# After implementing the regions method for rail network,\n",
    "# the plot_network() command will work.\n",
    "rail_network.plot_network()"
   ]
  },
  {
   "cell_type": "code",
   "execution_count": null,
   "id": "19071954-8e0e-4946-8e63-befa594f904f",
   "metadata": {},
   "outputs": [],
   "source": [
    "print(f\"There are {len(rail_network.hub_stations())} hub stations in this network\")\n",
    "\n",
    "print(f\"The hub closest to Edinburgh Park is {rail_network.closest_hub(edinburgh_park)}\")"
   ]
  },
  {
   "cell_type": "code",
   "execution_count": null,
   "id": "453418a4-2d33-4216-af11-adbb36f93d2a",
   "metadata": {},
   "outputs": [],
   "source": [
    "print(f\"Journey from Edinburgh Park to Worthing: {rail_network.journey_planner('EDP', 'WRH')}\")\n",
    "\n",
    "# After implementing the journey_planner function, plot_journey() can be called\n",
    "rail_network.plot_journey(\"EDP\", \"WRH\")"
   ]
  },
  {
   "cell_type": "code",
   "execution_count": null,
   "id": "40cb66fc-e09d-4442-a77d-fcd08ffb5c85",
   "metadata": {},
   "outputs": [],
   "source": [
    "rail_network.journey_fare(\"EDP\", \"WRH\", summary=True)"
   ]
  },
  {
   "cell_type": "code",
   "execution_count": null,
   "id": "fda6b99a-4630-4dfd-a6d5-6cf23ca7acd7",
   "metadata": {},
   "outputs": [],
   "source": [
    "# The bins and fill options, as well as any other keywords provided to the method,\n",
    "# should also be passed to the hist() function.\n",
    "rail_network.plot_fares_to(\"BRI\", save=True, bins=20, fill=False)\n",
    "# This plot should not be saved to a file\n",
    "rail_network.plot_fares_to(\"BRI\", save=False, color=\"red\")"
   ]
  }
 ],
 "metadata": {
  "kernelspec": {
   "display_name": "Python 3 (ipykernel)",
   "language": "python",
   "name": "python3"
  },
  "language_info": {
   "codemirror_mode": {
    "name": "ipython",
    "version": 3
   },
   "file_extension": ".py",
   "mimetype": "text/x-python",
   "name": "python",
   "nbconvert_exporter": "python",
   "pygments_lexer": "ipython3",
   "version": "3.9.12"
  }
 },
 "nbformat": 4,
 "nbformat_minor": 5
}
